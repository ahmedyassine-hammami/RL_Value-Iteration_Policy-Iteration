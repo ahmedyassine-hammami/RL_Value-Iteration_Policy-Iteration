{
  "nbformat": 4,
  "nbformat_minor": 0,
  "metadata": {
    "colab": {
      "name": "Value Iteration.ipynb",
      "provenance": []
    },
    "kernelspec": {
      "name": "python3",
      "display_name": "Python 3"
    }
  },
  "cells": [
    {
      "cell_type": "markdown",
      "metadata": {
        "id": "WA8GY5Z33ros"
      },
      "source": [
        "# **Value Iteration Algorithm**\n",
        "\n",
        "---\n",
        "---\n",
        "Hanin HAMDI\n",
        "\n",
        "Ahmed Yassine HAMMAMI"
      ]
    },
    {
      "cell_type": "code",
      "metadata": {
        "id": "bCiIsgULDHOx"
      },
      "source": [
        "import numpy as np \n",
        "from math import *"
      ],
      "execution_count": 1,
      "outputs": []
    },
    {
      "cell_type": "code",
      "metadata": {
        "id": "S3KwAVEY-6B1"
      },
      "source": [
        "def CLOSE_ENOUGHT(a,b):\n",
        "  ''' \n",
        "  This function decides whether b converges into a or not based on RMSE \n",
        "  '''\n",
        "  RMSE = 0\n",
        "  for index in range(len(a)):\n",
        "    RMSE += (a[index]-b[index])**2\n",
        "  RMSE = sqrt(RMSE)/len(a)\n",
        "  return RMSE < 10**(-4)"
      ],
      "execution_count": 2,
      "outputs": []
    },
    {
      "cell_type": "code",
      "metadata": {
        "id": "iaZFaDBgSgOv"
      },
      "source": [
        "def MAX(L): \n",
        "  ''' This function determines the max of a list L and arg max of the same list\n",
        "  '''\n",
        "  max = L[0]\n",
        "  arg_max = 0\n",
        "  for i in range(1,len(L)):\n",
        "    if L[i] > max :\n",
        "      max = L[i]\n",
        "      arg_max = i\n",
        "  return [max,arg_max]"
      ],
      "execution_count": 3,
      "outputs": []
    },
    {
      "cell_type": "code",
      "metadata": {
        "id": "7x6pW-eM3kWD"
      },
      "source": [
        "def VALUE_ITERATION(T,R,gamma,pi_matrix):\n",
        "  '''\n",
        "  This function implements the value iteration algorithm.\n",
        "  Inputs : T : transition matrixes, each matrix defines transition in case of one action\n",
        "           R : rewards matrix \n",
        "           gamma : the discounted factor\n",
        "           pi_initial : initial policy \n",
        "  Output : U : utility matrix \n",
        "           pi_optimal : policy matrix, contains the optimal action to take at each iteration\n",
        "  Local variables : U : utility, initially equal to R \n",
        "                    U1 : utility \n",
        "                    V : determines sum(Tij.U(j)) for each action a \n",
        "  Number of actions = length(T)\n",
        "\n",
        "  '''\n",
        "  U = np.array(R)\n",
        "  U1 = np.array(U)\n",
        "  pi_optimal = np.array(pi_matrix)\n",
        "  pi1_optimal = np.array(pi_matrix)\n",
        "  while True :\n",
        "    U = np.array(U1)\n",
        "    pi_optimal = np.array(pi1_optimal)\n",
        "    for i in range(len(U)):\n",
        "      V = []\n",
        "      for action in range(len(T)):\n",
        "        sum = 0\n",
        "        for j in range(len(U)):\n",
        "          sum += T[action][i][j]*U[j]\n",
        "        V.append(sum)\n",
        "      best = gamma*MAX(V)[0]\n",
        "      # update of the policy when we didn't reach the optimal policy \n",
        "      pi1_optimal[i] = MAX(V)[1]\n",
        "      # update of the utility \n",
        "      U1[i] = R[i] + best\n",
        "    if CLOSE_ENOUGHT(U,U1):\n",
        "      break\n",
        "  return [U,pi_optimal]"
      ],
      "execution_count": 24,
      "outputs": []
    },
    {
      "cell_type": "markdown",
      "metadata": {
        "id": "kbvBLgyBBK2l"
      },
      "source": [
        "## Example \n",
        "We will test the example given by the text of the TP2"
      ]
    },
    {
      "cell_type": "code",
      "metadata": {
        "id": "qt8TpKQxBJHQ"
      },
      "source": [
        "''' States : s0,s1,s2 and s3\n",
        "    Actions : a0,a1 and a2 \n",
        "''' \n",
        "''' R definition \n",
        "'''\n",
        "R = np.array([0.0,0,1,10.0])\n",
        "''' Fixing x, y and gamma \n",
        "'''\n",
        "x = 0.25\n",
        "y = 0.25\n",
        "gamma = 0.9\n",
        "''' T definition \n",
        "'''\n",
        "T_a0 = np.array([[0.0,0.0,0.0,0.0],\n",
        "                [0.0,1-x,0.0,x],\n",
        "                [1-y,0.0,0.0,y],\n",
        "                [1.0,0.0,0.0,0.0]])\n",
        "T_a1 = np.array([[0.0,1.0,0.0,0.0],\n",
        "                [0.0,0.0,0.0,0.0],\n",
        "                [0.0,0.0,0.0,0.0],\n",
        "                [0.0,0.0,0.0,0.0]])\n",
        "T_a2 = np.array([[0.0,0.0,1.0,0.0],\n",
        "                [0.0,0.0,0.0,0.0],\n",
        "                [0.0,0.0,0.0,0.0],\n",
        "                [0.0,0.0,0.0,0.0]])\n",
        "T = [T_a0,T_a1,T_a2]\n",
        "''' Initial action for each state \n",
        "    1 refers to a1, 0 refers to a0 and 2 refers to a2\n",
        "'''\n",
        "pi_matrix = np.array([2,0,0,0])"
      ],
      "execution_count": 27,
      "outputs": []
    },
    {
      "cell_type": "code",
      "metadata": {
        "id": "xBAGqK2MOZlx",
        "outputId": "63243a36-5ad7-411f-e835-1e3ab75cefbb",
        "colab": {
          "base_uri": "https://localhost:8080/",
          "height": 68
        }
      },
      "source": [
        "[U,pi_optimal] = np.array(VALUE_ITERATION(T,R,gamma,pi_matrix))\n",
        "print('OPTIMAL UTILITY \\n')\n",
        "print(U)"
      ],
      "execution_count": 28,
      "outputs": [
        {
          "output_type": "stream",
          "text": [
            "OPTIMAL UTILITY \n",
            "\n",
            "[14.18376816 15.7599503  15.69602736 22.76520424]\n"
          ],
          "name": "stdout"
        }
      ]
    },
    {
      "cell_type": "markdown",
      "metadata": {
        "id": "EMtQ2IjFOy8R"
      },
      "source": [
        "### let's now determine the optimal policy $\\pi$"
      ]
    },
    {
      "cell_type": "code",
      "metadata": {
        "id": "hsgGIYWGOw6P",
        "outputId": "abb43922-6783-4e5a-c53f-559dd3858ea4",
        "colab": {
          "base_uri": "https://localhost:8080/",
          "height": 68
        }
      },
      "source": [
        "print('OPTIMAL POLICY \\n')\n",
        "print(pi_optimal)"
      ],
      "execution_count": 30,
      "outputs": [
        {
          "output_type": "stream",
          "text": [
            "OPTIMAL POLICY \n",
            "\n",
            "[1. 0. 0. 0.]\n"
          ],
          "name": "stdout"
        }
      ]
    },
    {
      "cell_type": "markdown",
      "metadata": {
        "id": "EErH97WgXI5b"
      },
      "source": [
        "### Now, we've added some lines to the function VALUE_ITERATION in order to memorize the utilies calculated at the end of each iteration, in order to follow the variation of the utility of each state at each step of the exploration. "
      ]
    },
    {
      "cell_type": "code",
      "metadata": {
        "id": "XlYfbtz1XHsr"
      },
      "source": [
        "def VALUE_ITERATION_MODIFIED(T,R,gamma,pi_matrix):\n",
        "  '''\n",
        "  This function implements the value iteration algorithm.\n",
        "  Inputs : T : transition matrixes, each matrix defines transition in case of one action\n",
        "           R : rewards matrix \n",
        "           gamma : the discounted factor\n",
        "           pi_initial : initial policy \n",
        "  Output : U : utility matrix \n",
        "           pi_optimal : policy matrix, contains the optimal action to take at each iteration\n",
        "  Local variables : U : utility, initially equal to R \n",
        "                    U1 : utility \n",
        "                    V : determines sum(Tij.U(j)) for each action a \n",
        "  Number of actions = length(T)\n",
        "\n",
        "  '''\n",
        "  U_memorized = []\n",
        "  U = np.array(R)\n",
        "  U1 = np.array(U)\n",
        "  pi_optimal = np.array(pi_matrix)\n",
        "  pi1_optimal = np.array(pi_matrix)\n",
        "  while True :\n",
        "    U = np.array(U1)\n",
        "    U_memorized.append(U)\n",
        "    pi_optimal = np.array(pi1_optimal)\n",
        "    for i in range(len(U)):\n",
        "      V = []\n",
        "      for action in range(len(T)):\n",
        "        sum = 0\n",
        "        for j in range(len(U)):\n",
        "          sum += T[action][i][j]*U[j]\n",
        "        V.append(sum)\n",
        "      best = gamma*MAX(V)[0]\n",
        "      # update of the policy when we didn't reach the optimal policy \n",
        "      pi1_optimal[i] = MAX(V)[1]\n",
        "      # update of the utility \n",
        "      U1[i] = R[i] + best\n",
        "    if CLOSE_ENOUGHT(U,U1):\n",
        "      break\n",
        "  return [U,pi_optimal, U_memorized]"
      ],
      "execution_count": 31,
      "outputs": []
    },
    {
      "cell_type": "code",
      "metadata": {
        "id": "HCkFsj8uYXZr"
      },
      "source": [
        "[U,pi_optimal,U_memorized] = np.array(VALUE_ITERATION_MODIFIED(T,R,gamma,pi_matrix))\n",
        "U_memorized = np.array(U_memorized)\n",
        "V0 = U_memorized[:,0]\n",
        "V1 = U_memorized[:,1]\n",
        "V2 = U_memorized[:,2]\n",
        "V3 = U_memorized[:,3]"
      ],
      "execution_count": 32,
      "outputs": []
    },
    {
      "cell_type": "code",
      "metadata": {
        "id": "ohjW5lgTafol",
        "outputId": "7902aac5-3db5-407a-c7db-923aa0e4609a",
        "colab": {
          "base_uri": "https://localhost:8080/",
          "height": 374
        }
      },
      "source": [
        "# Plot of V0, V1, V2 and V3\n",
        "import matplotlib.pyplot as plt\n",
        "\n",
        "fig = plt.figure(1, figsize=(9, 6))\n",
        "plt.plot(V0)\n",
        "plt.plot(V1)\n",
        "plt.plot(V2)\n",
        "plt.plot(V3)\n",
        "plt.legend(['V0','V1','V2','V3'])\n",
        "plt.show()"
      ],
      "execution_count": 33,
      "outputs": [
        {
          "output_type": "display_data",
          "data": {
            "image/png": "[encoded data removed]",
            "text/plain": [
              "<Figure size 648x432 with 1 Axes>"
            ]
          },
          "metadata": {
            "tags": [],
            "needs_background": "light"
          }
        }
      ]
    },
    {
      "cell_type": "markdown",
      "metadata": {
        "id": "X_BdBgi5BSvb"
      },
      "source": [
        "* On remarque qu'aux 10 premières itérations, $V_1$ (l'amélioration qu'on obtient si l'on réalise l'action $a_1$ à partir de l'état $s_0$) est inférieure à $V_2$ (l'amélioration qu'on obtient si l'on réalise l'action $a_2$ à partir de l'état $s_0$). Par contre, à partir de la dixième itération, l'algorithme qui calcule l'utilité commence à converger encore plus et $V_1$ devient à peine supérieure à $V_2$ (une différence de l'ordre de $10^{-1}$.\n",
        "\n",
        "* De plus, on remarque aussi que la matrice $\\pi$ converge un bon temps avant la matrice de l'utilité U, ceci est un inconvénient de l'algorithme du Value Iteration."
      ]
    }
  ]
}